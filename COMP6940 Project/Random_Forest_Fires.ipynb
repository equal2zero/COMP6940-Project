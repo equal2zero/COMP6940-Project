{
 "cells": [
  {
   "cell_type": "markdown",
   "id": "70247d0a",
   "metadata": {
    "id": "70247d0a"
   },
   "source": [
    "We explore predicting the confidence levels of forest fires with a Random Forest Regressor\n",
    "Confidence levels can be:l = low, n = nominal, and h = high"
   ]
  },
  {
   "cell_type": "code",
   "execution_count": 2,
   "id": "045d134e",
   "metadata": {
    "id": "045d134e"
   },
   "outputs": [],
   "source": [
    "import datetime as dt\n",
    "import pandas as pd\n",
    "import numpy as np\n",
    "import seaborn as sns\n",
    "import pickle\n",
    "\n",
    "from sklearn.model_selection import train_test_split\n",
    "from sklearn.metrics import accuracy_score, classification_report\n",
    "from sklearn import metrics\n",
    "from sklearn.ensemble import RandomForestRegressor\n",
    "from collections import Counter\n",
    "from imblearn.over_sampling import SMOTE\n",
    "from imblearn.over_sampling import ADASYN\n",
    "from imblearn.combine import SMOTETomek\n",
    "from imblearn.combine import SMOTEENN\n",
    "import matplotlib.pyplot as plt\n",
    "%matplotlib inline"
   ]
  },
  {
   "cell_type": "code",
   "execution_count": 3,
   "id": "19d19393",
   "metadata": {
    "id": "19d19393"
   },
   "outputs": [],
   "source": [
    "# Read dataset which was extracted from NASA site as 10 csv files and combined into one csv \n",
    "df = pd.read_csv(\"tnt_fires.csv\")"
   ]
  },
  {
   "cell_type": "code",
   "execution_count": 4,
   "id": "da02b599",
   "metadata": {
    "colab": {
     "base_uri": "https://localhost:8080/",
     "height": 206
    },
    "id": "da02b599",
    "outputId": "83fd6194-674b-471d-8ef1-fb900643cbaa"
   },
   "outputs": [
    {
     "data": {
      "text/html": [
       "<div>\n",
       "<style scoped>\n",
       "    .dataframe tbody tr th:only-of-type {\n",
       "        vertical-align: middle;\n",
       "    }\n",
       "\n",
       "    .dataframe tbody tr th {\n",
       "        vertical-align: top;\n",
       "    }\n",
       "\n",
       "    .dataframe thead th {\n",
       "        text-align: right;\n",
       "    }\n",
       "</style>\n",
       "<table border=\"1\" class=\"dataframe\">\n",
       "  <thead>\n",
       "    <tr style=\"text-align: right;\">\n",
       "      <th></th>\n",
       "      <th>Unnamed: 0</th>\n",
       "      <th>latitude</th>\n",
       "      <th>longitude</th>\n",
       "      <th>bright_ti4</th>\n",
       "      <th>scan</th>\n",
       "      <th>track</th>\n",
       "      <th>acq_date</th>\n",
       "      <th>acq_time</th>\n",
       "      <th>satellite</th>\n",
       "      <th>instrument</th>\n",
       "      <th>confidence</th>\n",
       "      <th>version</th>\n",
       "      <th>bright_ti5</th>\n",
       "      <th>frp</th>\n",
       "      <th>daynight</th>\n",
       "      <th>type</th>\n",
       "      <th>year</th>\n",
       "      <th>month</th>\n",
       "      <th>day</th>\n",
       "    </tr>\n",
       "  </thead>\n",
       "  <tbody>\n",
       "    <tr>\n",
       "      <th>0</th>\n",
       "      <td>0</td>\n",
       "      <td>2.450549</td>\n",
       "      <td>-59.424458</td>\n",
       "      <td>335.22</td>\n",
       "      <td>0.43</td>\n",
       "      <td>0.38</td>\n",
       "      <td>2012-01-20</td>\n",
       "      <td>1730</td>\n",
       "      <td>N</td>\n",
       "      <td>VIIRS</td>\n",
       "      <td>n</td>\n",
       "      <td>1</td>\n",
       "      <td>295.35</td>\n",
       "      <td>2.43</td>\n",
       "      <td>D</td>\n",
       "      <td>0</td>\n",
       "      <td>2012</td>\n",
       "      <td>1</td>\n",
       "      <td>20</td>\n",
       "    </tr>\n",
       "    <tr>\n",
       "      <th>1</th>\n",
       "      <td>1</td>\n",
       "      <td>2.501183</td>\n",
       "      <td>-59.738789</td>\n",
       "      <td>332.34</td>\n",
       "      <td>0.42</td>\n",
       "      <td>0.38</td>\n",
       "      <td>2012-01-20</td>\n",
       "      <td>1730</td>\n",
       "      <td>N</td>\n",
       "      <td>VIIRS</td>\n",
       "      <td>n</td>\n",
       "      <td>1</td>\n",
       "      <td>297.51</td>\n",
       "      <td>4.54</td>\n",
       "      <td>D</td>\n",
       "      <td>0</td>\n",
       "      <td>2012</td>\n",
       "      <td>1</td>\n",
       "      <td>20</td>\n",
       "    </tr>\n",
       "    <tr>\n",
       "      <th>2</th>\n",
       "      <td>2</td>\n",
       "      <td>2.490773</td>\n",
       "      <td>-59.737251</td>\n",
       "      <td>337.09</td>\n",
       "      <td>0.42</td>\n",
       "      <td>0.38</td>\n",
       "      <td>2012-01-20</td>\n",
       "      <td>1730</td>\n",
       "      <td>N</td>\n",
       "      <td>VIIRS</td>\n",
       "      <td>n</td>\n",
       "      <td>1</td>\n",
       "      <td>290.36</td>\n",
       "      <td>13.91</td>\n",
       "      <td>D</td>\n",
       "      <td>0</td>\n",
       "      <td>2012</td>\n",
       "      <td>1</td>\n",
       "      <td>20</td>\n",
       "    </tr>\n",
       "    <tr>\n",
       "      <th>3</th>\n",
       "      <td>3</td>\n",
       "      <td>2.493114</td>\n",
       "      <td>-59.745358</td>\n",
       "      <td>348.79</td>\n",
       "      <td>0.42</td>\n",
       "      <td>0.38</td>\n",
       "      <td>2012-01-20</td>\n",
       "      <td>1730</td>\n",
       "      <td>N</td>\n",
       "      <td>VIIRS</td>\n",
       "      <td>n</td>\n",
       "      <td>1</td>\n",
       "      <td>298.69</td>\n",
       "      <td>8.35</td>\n",
       "      <td>D</td>\n",
       "      <td>0</td>\n",
       "      <td>2012</td>\n",
       "      <td>1</td>\n",
       "      <td>20</td>\n",
       "    </tr>\n",
       "    <tr>\n",
       "      <th>4</th>\n",
       "      <td>4</td>\n",
       "      <td>2.490209</td>\n",
       "      <td>-59.741047</td>\n",
       "      <td>337.00</td>\n",
       "      <td>0.42</td>\n",
       "      <td>0.38</td>\n",
       "      <td>2012-01-20</td>\n",
       "      <td>1730</td>\n",
       "      <td>N</td>\n",
       "      <td>VIIRS</td>\n",
       "      <td>n</td>\n",
       "      <td>1</td>\n",
       "      <td>293.50</td>\n",
       "      <td>8.35</td>\n",
       "      <td>D</td>\n",
       "      <td>0</td>\n",
       "      <td>2012</td>\n",
       "      <td>1</td>\n",
       "      <td>20</td>\n",
       "    </tr>\n",
       "  </tbody>\n",
       "</table>\n",
       "</div>"
      ],
      "text/plain": [
       "   Unnamed: 0  latitude  longitude  bright_ti4  scan  track    acq_date  \\\n",
       "0           0  2.450549 -59.424458      335.22  0.43   0.38  2012-01-20   \n",
       "1           1  2.501183 -59.738789      332.34  0.42   0.38  2012-01-20   \n",
       "2           2  2.490773 -59.737251      337.09  0.42   0.38  2012-01-20   \n",
       "3           3  2.493114 -59.745358      348.79  0.42   0.38  2012-01-20   \n",
       "4           4  2.490209 -59.741047      337.00  0.42   0.38  2012-01-20   \n",
       "\n",
       "   acq_time satellite instrument confidence  version  bright_ti5    frp  \\\n",
       "0      1730         N      VIIRS          n        1      295.35   2.43   \n",
       "1      1730         N      VIIRS          n        1      297.51   4.54   \n",
       "2      1730         N      VIIRS          n        1      290.36  13.91   \n",
       "3      1730         N      VIIRS          n        1      298.69   8.35   \n",
       "4      1730         N      VIIRS          n        1      293.50   8.35   \n",
       "\n",
       "  daynight  type  year  month  day  \n",
       "0        D     0  2012      1   20  \n",
       "1        D     0  2012      1   20  \n",
       "2        D     0  2012      1   20  \n",
       "3        D     0  2012      1   20  \n",
       "4        D     0  2012      1   20  "
      ]
     },
     "execution_count": 4,
     "metadata": {},
     "output_type": "execute_result"
    }
   ],
   "source": [
    "df.head()"
   ]
  },
  {
   "cell_type": "code",
   "execution_count": 5,
   "id": "6964988a",
   "metadata": {
    "colab": {
     "base_uri": "https://localhost:8080/"
    },
    "id": "6964988a",
    "outputId": "2aee6bfe-c1b2-4483-de27-e0ea49cc4197"
   },
   "outputs": [
    {
     "name": "stdout",
     "output_type": "stream",
     "text": [
      "<class 'pandas.core.frame.DataFrame'>\n",
      "RangeIndex: 88126 entries, 0 to 88125\n",
      "Data columns (total 19 columns):\n",
      " #   Column      Non-Null Count  Dtype  \n",
      "---  ------      --------------  -----  \n",
      " 0   Unnamed: 0  88126 non-null  int64  \n",
      " 1   latitude    88126 non-null  float64\n",
      " 2   longitude   88126 non-null  float64\n",
      " 3   bright_ti4  88126 non-null  float64\n",
      " 4   scan        88126 non-null  float64\n",
      " 5   track       88126 non-null  float64\n",
      " 6   acq_date    88126 non-null  object \n",
      " 7   acq_time    88126 non-null  int64  \n",
      " 8   satellite   88126 non-null  object \n",
      " 9   instrument  88126 non-null  object \n",
      " 10  confidence  88126 non-null  object \n",
      " 11  version     88126 non-null  int64  \n",
      " 12  bright_ti5  88126 non-null  float64\n",
      " 13  frp         88126 non-null  float64\n",
      " 14  daynight    88126 non-null  object \n",
      " 15  type        88126 non-null  int64  \n",
      " 16  year        88126 non-null  int64  \n",
      " 17  month       88126 non-null  int64  \n",
      " 18  day         88126 non-null  int64  \n",
      "dtypes: float64(7), int64(7), object(5)\n",
      "memory usage: 12.8+ MB\n"
     ]
    }
   ],
   "source": [
    "df.info()"
   ]
  },
  {
   "cell_type": "code",
   "execution_count": 6,
   "id": "e18d78c1",
   "metadata": {
    "colab": {
     "base_uri": "https://localhost:8080/"
    },
    "id": "e18d78c1",
    "outputId": "b4fb411b-68c3-4473-c9b1-2c479f974eb8"
   },
   "outputs": [
    {
     "data": {
      "text/plain": [
       "Index(['Unnamed: 0', 'latitude', 'longitude', 'bright_ti4', 'scan', 'track',\n",
       "       'acq_date', 'acq_time', 'satellite', 'instrument', 'confidence',\n",
       "       'version', 'bright_ti5', 'frp', 'daynight', 'type', 'year', 'month',\n",
       "       'day'],\n",
       "      dtype='object')"
      ]
     },
     "execution_count": 6,
     "metadata": {},
     "output_type": "execute_result"
    }
   ],
   "source": [
    "df.columns"
   ]
  },
  {
   "cell_type": "code",
   "execution_count": 7,
   "id": "84f79233",
   "metadata": {
    "colab": {
     "base_uri": "https://localhost:8080/",
     "height": 300
    },
    "id": "84f79233",
    "outputId": "92d3aa39-e160-40ee-cf20-e735beb6c478"
   },
   "outputs": [
    {
     "data": {
      "text/html": [
       "<div>\n",
       "<style scoped>\n",
       "    .dataframe tbody tr th:only-of-type {\n",
       "        vertical-align: middle;\n",
       "    }\n",
       "\n",
       "    .dataframe tbody tr th {\n",
       "        vertical-align: top;\n",
       "    }\n",
       "\n",
       "    .dataframe thead th {\n",
       "        text-align: right;\n",
       "    }\n",
       "</style>\n",
       "<table border=\"1\" class=\"dataframe\">\n",
       "  <thead>\n",
       "    <tr style=\"text-align: right;\">\n",
       "      <th></th>\n",
       "      <th>Unnamed: 0</th>\n",
       "      <th>latitude</th>\n",
       "      <th>longitude</th>\n",
       "      <th>bright_ti4</th>\n",
       "      <th>scan</th>\n",
       "      <th>track</th>\n",
       "      <th>acq_time</th>\n",
       "      <th>version</th>\n",
       "      <th>bright_ti5</th>\n",
       "      <th>frp</th>\n",
       "      <th>type</th>\n",
       "      <th>year</th>\n",
       "      <th>month</th>\n",
       "      <th>day</th>\n",
       "    </tr>\n",
       "  </thead>\n",
       "  <tbody>\n",
       "    <tr>\n",
       "      <th>count</th>\n",
       "      <td>88126.000000</td>\n",
       "      <td>88126.000000</td>\n",
       "      <td>88126.000000</td>\n",
       "      <td>88126.000000</td>\n",
       "      <td>88126.000000</td>\n",
       "      <td>88126.000000</td>\n",
       "      <td>88126.000000</td>\n",
       "      <td>88126.0</td>\n",
       "      <td>88126.000000</td>\n",
       "      <td>88126.000000</td>\n",
       "      <td>88126.000000</td>\n",
       "      <td>88126.000000</td>\n",
       "      <td>88126.000000</td>\n",
       "      <td>88126.000000</td>\n",
       "    </tr>\n",
       "    <tr>\n",
       "      <th>mean</th>\n",
       "      <td>4680.103261</td>\n",
       "      <td>4.804430</td>\n",
       "      <td>-58.973473</td>\n",
       "      <td>336.599316</td>\n",
       "      <td>0.451238</td>\n",
       "      <td>0.463002</td>\n",
       "      <td>1592.048953</td>\n",
       "      <td>1.0</td>\n",
       "      <td>296.076735</td>\n",
       "      <td>7.136663</td>\n",
       "      <td>0.042360</td>\n",
       "      <td>2016.332694</td>\n",
       "      <td>6.821687</td>\n",
       "      <td>15.814175</td>\n",
       "    </tr>\n",
       "    <tr>\n",
       "      <th>std</th>\n",
       "      <td>2950.379757</td>\n",
       "      <td>1.678266</td>\n",
       "      <td>0.960230</td>\n",
       "      <td>12.463306</td>\n",
       "      <td>0.078131</td>\n",
       "      <td>0.104039</td>\n",
       "      <td>361.219381</td>\n",
       "      <td>0.0</td>\n",
       "      <td>6.200262</td>\n",
       "      <td>8.765795</td>\n",
       "      <td>0.353894</td>\n",
       "      <td>2.687061</td>\n",
       "      <td>3.859260</td>\n",
       "      <td>8.665437</td>\n",
       "    </tr>\n",
       "    <tr>\n",
       "      <th>min</th>\n",
       "      <td>0.000000</td>\n",
       "      <td>1.542446</td>\n",
       "      <td>-61.324394</td>\n",
       "      <td>208.000000</td>\n",
       "      <td>0.320000</td>\n",
       "      <td>0.360000</td>\n",
       "      <td>426.000000</td>\n",
       "      <td>1.0</td>\n",
       "      <td>244.880000</td>\n",
       "      <td>0.060000</td>\n",
       "      <td>0.000000</td>\n",
       "      <td>2012.000000</td>\n",
       "      <td>1.000000</td>\n",
       "      <td>1.000000</td>\n",
       "    </tr>\n",
       "    <tr>\n",
       "      <th>25%</th>\n",
       "      <td>2203.000000</td>\n",
       "      <td>3.293508</td>\n",
       "      <td>-59.658293</td>\n",
       "      <td>331.600000</td>\n",
       "      <td>0.390000</td>\n",
       "      <td>0.380000</td>\n",
       "      <td>1652.000000</td>\n",
       "      <td>1.0</td>\n",
       "      <td>292.170000</td>\n",
       "      <td>3.230000</td>\n",
       "      <td>0.000000</td>\n",
       "      <td>2014.000000</td>\n",
       "      <td>3.000000</td>\n",
       "      <td>8.000000</td>\n",
       "    </tr>\n",
       "    <tr>\n",
       "      <th>50%</th>\n",
       "      <td>4427.000000</td>\n",
       "      <td>4.800262</td>\n",
       "      <td>-59.342075</td>\n",
       "      <td>336.560000</td>\n",
       "      <td>0.430000</td>\n",
       "      <td>0.430000</td>\n",
       "      <td>1717.000000</td>\n",
       "      <td>1.0</td>\n",
       "      <td>296.420000</td>\n",
       "      <td>5.080000</td>\n",
       "      <td>0.000000</td>\n",
       "      <td>2016.000000</td>\n",
       "      <td>9.000000</td>\n",
       "      <td>16.000000</td>\n",
       "    </tr>\n",
       "    <tr>\n",
       "      <th>75%</th>\n",
       "      <td>6875.000000</td>\n",
       "      <td>6.319916</td>\n",
       "      <td>-57.993775</td>\n",
       "      <td>343.020000</td>\n",
       "      <td>0.500000</td>\n",
       "      <td>0.530000</td>\n",
       "      <td>1736.000000</td>\n",
       "      <td>1.0</td>\n",
       "      <td>300.200000</td>\n",
       "      <td>8.080000</td>\n",
       "      <td>0.000000</td>\n",
       "      <td>2019.000000</td>\n",
       "      <td>10.000000</td>\n",
       "      <td>23.000000</td>\n",
       "    </tr>\n",
       "    <tr>\n",
       "      <th>max</th>\n",
       "      <td>12805.000000</td>\n",
       "      <td>8.387190</td>\n",
       "      <td>-57.141369</td>\n",
       "      <td>367.000000</td>\n",
       "      <td>0.800000</td>\n",
       "      <td>0.780000</td>\n",
       "      <td>1825.000000</td>\n",
       "      <td>1.0</td>\n",
       "      <td>376.410000</td>\n",
       "      <td>479.130000</td>\n",
       "      <td>3.000000</td>\n",
       "      <td>2021.000000</td>\n",
       "      <td>12.000000</td>\n",
       "      <td>31.000000</td>\n",
       "    </tr>\n",
       "  </tbody>\n",
       "</table>\n",
       "</div>"
      ],
      "text/plain": [
       "         Unnamed: 0      latitude     longitude    bright_ti4          scan  \\\n",
       "count  88126.000000  88126.000000  88126.000000  88126.000000  88126.000000   \n",
       "mean    4680.103261      4.804430    -58.973473    336.599316      0.451238   \n",
       "std     2950.379757      1.678266      0.960230     12.463306      0.078131   \n",
       "min        0.000000      1.542446    -61.324394    208.000000      0.320000   \n",
       "25%     2203.000000      3.293508    -59.658293    331.600000      0.390000   \n",
       "50%     4427.000000      4.800262    -59.342075    336.560000      0.430000   \n",
       "75%     6875.000000      6.319916    -57.993775    343.020000      0.500000   \n",
       "max    12805.000000      8.387190    -57.141369    367.000000      0.800000   \n",
       "\n",
       "              track      acq_time  version    bright_ti5           frp  \\\n",
       "count  88126.000000  88126.000000  88126.0  88126.000000  88126.000000   \n",
       "mean       0.463002   1592.048953      1.0    296.076735      7.136663   \n",
       "std        0.104039    361.219381      0.0      6.200262      8.765795   \n",
       "min        0.360000    426.000000      1.0    244.880000      0.060000   \n",
       "25%        0.380000   1652.000000      1.0    292.170000      3.230000   \n",
       "50%        0.430000   1717.000000      1.0    296.420000      5.080000   \n",
       "75%        0.530000   1736.000000      1.0    300.200000      8.080000   \n",
       "max        0.780000   1825.000000      1.0    376.410000    479.130000   \n",
       "\n",
       "               type          year         month           day  \n",
       "count  88126.000000  88126.000000  88126.000000  88126.000000  \n",
       "mean       0.042360   2016.332694      6.821687     15.814175  \n",
       "std        0.353894      2.687061      3.859260      8.665437  \n",
       "min        0.000000   2012.000000      1.000000      1.000000  \n",
       "25%        0.000000   2014.000000      3.000000      8.000000  \n",
       "50%        0.000000   2016.000000      9.000000     16.000000  \n",
       "75%        0.000000   2019.000000     10.000000     23.000000  \n",
       "max        3.000000   2021.000000     12.000000     31.000000  "
      ]
     },
     "execution_count": 7,
     "metadata": {},
     "output_type": "execute_result"
    }
   ],
   "source": [
    "df.describe()"
   ]
  },
  {
   "cell_type": "code",
   "execution_count": 8,
   "id": "79988da2",
   "metadata": {
    "colab": {
     "base_uri": "https://localhost:8080/",
     "height": 664
    },
    "id": "79988da2",
    "outputId": "622ed95f-60f1-4f5d-c7f2-f83f84c5b008"
   },
   "outputs": [
    {
     "data": {
      "text/plain": [
       "<AxesSubplot:>"
      ]
     },
     "execution_count": 8,
     "metadata": {},
     "output_type": "execute_result"
    },
    {
     "data": {
      "image/png": "[encoded data removed]",
      "text/plain": [
       "<Figure size 720x720 with 2 Axes>"
      ]
     },
     "metadata": {
      "needs_background": "light"
     },
     "output_type": "display_data"
    }
   ],
   "source": [
    "# Plot heatmap showing correlation\n",
    "plt.figure(figsize = (10,10))\n",
    "sns.heatmap(df.corr(), annot = True, cmap = \"viridis\", linewidths = 0.5)"
   ]
  },
  {
   "cell_type": "markdown",
   "id": "542aacb4",
   "metadata": {
    "id": "542aacb4"
   },
   "source": [
    "## Data Cleaning"
   ]
  },
  {
   "cell_type": "code",
   "execution_count": 9,
   "id": "bba83b8b",
   "metadata": {
    "id": "bba83b8b"
   },
   "outputs": [],
   "source": [
    "# Drop track column???\n",
    "df = df.drop([\"track\"], axis = 1)"
   ]
  },
  {
   "cell_type": "code",
   "execution_count": 10,
   "id": "8da59a50",
   "metadata": {
    "colab": {
     "base_uri": "https://localhost:8080/"
    },
    "id": "8da59a50",
    "outputId": "673f6646-addf-44a3-d53f-6df7e9aa0048",
    "scrolled": false
   },
   "outputs": [
    {
     "name": "stdout",
     "output_type": "stream",
     "text": [
      "The Unnamed: 0 column\n",
      "0        10\n",
      "2799     10\n",
      "2801     10\n",
      "2802     10\n",
      "2803     10\n",
      "         ..\n",
      "11270     1\n",
      "11269     1\n",
      "11268     1\n",
      "11267     1\n",
      "12805     1\n",
      "Name: Unnamed: 0, Length: 12806, dtype: int64\n",
      "*****\n",
      "The latitude column\n",
      "6.438489    3\n",
      "3.617743    3\n",
      "3.715153    3\n",
      "5.870817    3\n",
      "2.970873    3\n",
      "           ..\n",
      "2.611409    1\n",
      "3.133358    1\n",
      "3.136161    1\n",
      "3.722429    1\n",
      "3.116523    1\n",
      "Name: latitude, Length: 87116, dtype: int64\n",
      "*****\n",
      "The longitude column\n",
      "-59.560097    6\n",
      "-59.579220    6\n",
      "-59.585579    6\n",
      "-59.534805    6\n",
      "-59.365517    5\n",
      "             ..\n",
      "-57.663727    1\n",
      "-59.535213    1\n",
      "-59.534824    1\n",
      "-59.534367    1\n",
      "-59.680115    1\n",
      "Name: longitude, Length: 76939, dtype: int64\n",
      "*****\n",
      "The bright_ti4 column\n",
      "367.00    3133\n",
      "332.51      73\n",
      "335.48      71\n",
      "331.60      70\n",
      "330.12      69\n",
      "          ... \n",
      "298.41       1\n",
      "300.35       1\n",
      "299.27       1\n",
      "297.65       1\n",
      "306.90       1\n",
      "Name: bright_ti4, Length: 5619, dtype: int64\n",
      "*****\n",
      "The scan column\n",
      "0.39    12064\n",
      "0.40     6631\n",
      "0.41     5663\n",
      "0.42     5503\n",
      "0.43     5196\n",
      "0.38     4611\n",
      "0.44     4065\n",
      "0.45     3669\n",
      "0.46     2888\n",
      "0.48     2643\n",
      "0.51     2625\n",
      "0.47     2610\n",
      "0.49     2553\n",
      "0.50     2461\n",
      "0.53     2450\n",
      "0.52     2373\n",
      "0.54     2238\n",
      "0.55     1968\n",
      "0.56     1500\n",
      "0.57     1484\n",
      "0.34     1446\n",
      "0.36     1253\n",
      "0.35     1246\n",
      "0.33     1093\n",
      "0.37     1089\n",
      "0.32      939\n",
      "0.59      831\n",
      "0.58      813\n",
      "0.60      663\n",
      "0.61      528\n",
      "0.62      470\n",
      "0.63      442\n",
      "0.68      203\n",
      "0.71      182\n",
      "0.72      172\n",
      "0.67      152\n",
      "0.75      147\n",
      "0.64      142\n",
      "0.66      141\n",
      "0.74      133\n",
      "0.70      130\n",
      "0.65      127\n",
      "0.77      125\n",
      "0.73      118\n",
      "0.76      113\n",
      "0.69       94\n",
      "0.79       77\n",
      "0.78       60\n",
      "0.80        2\n",
      "Name: scan, dtype: int64\n",
      "*****\n",
      "The acq_date column\n",
      "2019-04-02    412\n",
      "2012-10-24    325\n",
      "2019-03-23    321\n",
      "2012-11-20    308\n",
      "2015-10-22    302\n",
      "             ... \n",
      "2016-03-31      1\n",
      "2014-05-28      1\n",
      "2013-07-12      1\n",
      "2014-05-29      1\n",
      "2016-04-03      1\n",
      "Name: acq_date, Length: 2883, dtype: int64\n",
      "*****\n",
      "The acq_time column\n",
      "1719    2188\n",
      "1725    2127\n",
      "1732    1976\n",
      "1700    1892\n",
      "1726    1779\n",
      "        ... \n",
      "1824       3\n",
      "1820       2\n",
      "620        2\n",
      "626        2\n",
      "611        1\n",
      "Name: acq_time, Length: 249, dtype: int64\n",
      "*****\n",
      "The satellite column\n",
      "N    88126\n",
      "Name: satellite, dtype: int64\n",
      "*****\n",
      "The instrument column\n",
      "VIIRS    88126\n",
      "Name: instrument, dtype: int64\n",
      "*****\n",
      "The confidence column\n",
      "n    79571\n",
      "l     5826\n",
      "h     2729\n",
      "Name: confidence, dtype: int64\n",
      "*****\n",
      "The version column\n",
      "1    88126\n",
      "Name: version, dtype: int64\n",
      "*****\n",
      "The bright_ti5 column\n",
      "297.67    85\n",
      "296.69    84\n",
      "298.40    82\n",
      "298.15    80\n",
      "298.72    80\n",
      "          ..\n",
      "276.22     1\n",
      "274.73     1\n",
      "269.92     1\n",
      "268.69     1\n",
      "276.65     1\n",
      "Name: bright_ti5, Length: 4064, dtype: int64\n",
      "*****\n",
      "The frp column\n",
      "3.66      164\n",
      "3.70      158\n",
      "3.43      152\n",
      "3.31      152\n",
      "3.85      151\n",
      "         ... \n",
      "60.37       1\n",
      "32.50       1\n",
      "109.92      1\n",
      "113.44      1\n",
      "29.80       1\n",
      "Name: frp, Length: 3835, dtype: int64\n",
      "*****\n",
      "The daynight column\n",
      "D    76102\n",
      "N     8768\n",
      "1     3157\n",
      "0       99\n",
      "Name: daynight, dtype: int64\n",
      "*****\n",
      "The type column\n",
      "0    86881\n",
      "3     1243\n",
      "2        2\n",
      "Name: type, dtype: int64\n",
      "*****\n",
      "The year column\n",
      "2015    12806\n",
      "2016    10513\n",
      "2019    10513\n",
      "2020     9784\n",
      "2014     8835\n",
      "2012     8503\n",
      "2018     8124\n",
      "2017     7581\n",
      "2013     7254\n",
      "2021     4213\n",
      "Name: year, dtype: int64\n",
      "*****\n",
      "The month column\n",
      "10    22260\n",
      "3     13454\n",
      "11    11706\n",
      "4      9978\n",
      "1      8620\n",
      "9      7848\n",
      "2      6348\n",
      "12     4643\n",
      "8      1473\n",
      "5      1086\n",
      "7       390\n",
      "6       320\n",
      "Name: month, dtype: int64\n",
      "*****\n",
      "The day column\n",
      "23    3523\n",
      "24    3463\n",
      "20    3177\n",
      "22    3161\n",
      "19    3146\n",
      "18    3111\n",
      "8     3088\n",
      "3     3042\n",
      "5     3028\n",
      "21    2951\n",
      "25    2935\n",
      "15    2928\n",
      "9     2903\n",
      "28    2889\n",
      "16    2880\n",
      "10    2848\n",
      "27    2837\n",
      "7     2812\n",
      "6     2800\n",
      "13    2790\n",
      "2     2751\n",
      "12    2744\n",
      "17    2733\n",
      "14    2732\n",
      "4     2711\n",
      "11    2704\n",
      "26    2623\n",
      "1     2545\n",
      "29    2481\n",
      "30    2432\n",
      "31    1358\n",
      "Name: day, dtype: int64\n",
      "*****\n"
     ]
    }
   ],
   "source": [
    "# Find Categorical Data\n",
    "for col in df.columns:\n",
    "    print(\"The {} column\".format(col))\n",
    "    print(df[col].value_counts())\n",
    "    print(\"*****\")"
   ]
  },
  {
   "cell_type": "code",
   "execution_count": 11,
   "id": "8b1f2d32",
   "metadata": {
    "id": "8b1f2d32"
   },
   "outputs": [],
   "source": [
    "# Remove columns with one value since they can not help in the prediction\n",
    "df = df.drop([\"satellite\", \"instrument\", \"version\"], axis = 1)"
   ]
  },
  {
   "cell_type": "code",
   "execution_count": 12,
   "id": "080f3f07",
   "metadata": {
    "colab": {
     "base_uri": "https://localhost:8080/"
    },
    "id": "080f3f07",
    "outputId": "c6c3b6e2-29c4-4f5c-9a1f-6b93a1b87dfe"
   },
   "outputs": [
    {
     "data": {
      "text/plain": [
       "array(['D', 'N', '0', '1'], dtype=object)"
      ]
     },
     "execution_count": 12,
     "metadata": {},
     "output_type": "execute_result"
    }
   ],
   "source": [
    "df.daynight.unique()"
   ]
  },
  {
   "cell_type": "code",
   "execution_count": 13,
   "id": "977f1262",
   "metadata": {
    "id": "977f1262"
   },
   "outputs": [],
   "source": [
    "# Change categorical data using mapping method\n",
    "confidence_map = {'l': 0, 'n': 1, 'h': 2}\n",
    "daynight_map = {'D': 1, 'N': 0, '1': 1, '0': 0}\n",
    "\n",
    "df[\"confidence\"] = df[\"confidence\"].map(confidence_map)\n",
    "df[\"daynight\"] = df[\"daynight\"].map(daynight_map)"
   ]
  },
  {
   "cell_type": "code",
   "execution_count": 14,
   "id": "ff6b7037",
   "metadata": {
    "colab": {
     "base_uri": "https://localhost:8080/"
    },
    "id": "ff6b7037",
    "outputId": "c6a3c9b8-36f7-44ed-ddaa-7819005f8a88"
   },
   "outputs": [
    {
     "data": {
      "text/plain": [
       "array([1, 0], dtype=int64)"
      ]
     },
     "execution_count": 14,
     "metadata": {},
     "output_type": "execute_result"
    }
   ],
   "source": [
    "df.daynight.unique()"
   ]
  },
  {
   "cell_type": "code",
   "execution_count": 15,
   "id": "247f209b",
   "metadata": {
    "colab": {
     "base_uri": "https://localhost:8080/",
     "height": 206
    },
    "id": "247f209b",
    "outputId": "66d03ece-e5a7-4485-d8e7-deda37c9d5ea"
   },
   "outputs": [
    {
     "data": {
      "text/html": [
       "<div>\n",
       "<style scoped>\n",
       "    .dataframe tbody tr th:only-of-type {\n",
       "        vertical-align: middle;\n",
       "    }\n",
       "\n",
       "    .dataframe tbody tr th {\n",
       "        vertical-align: top;\n",
       "    }\n",
       "\n",
       "    .dataframe thead th {\n",
       "        text-align: right;\n",
       "    }\n",
       "</style>\n",
       "<table border=\"1\" class=\"dataframe\">\n",
       "  <thead>\n",
       "    <tr style=\"text-align: right;\">\n",
       "      <th></th>\n",
       "      <th>Unnamed: 0</th>\n",
       "      <th>latitude</th>\n",
       "      <th>longitude</th>\n",
       "      <th>bright_ti4</th>\n",
       "      <th>scan</th>\n",
       "      <th>acq_date</th>\n",
       "      <th>acq_time</th>\n",
       "      <th>confidence</th>\n",
       "      <th>bright_ti5</th>\n",
       "      <th>frp</th>\n",
       "      <th>daynight</th>\n",
       "      <th>year</th>\n",
       "      <th>month</th>\n",
       "      <th>day</th>\n",
       "      <th>0</th>\n",
       "      <th>2</th>\n",
       "      <th>3</th>\n",
       "    </tr>\n",
       "  </thead>\n",
       "  <tbody>\n",
       "    <tr>\n",
       "      <th>0</th>\n",
       "      <td>0</td>\n",
       "      <td>2.450549</td>\n",
       "      <td>-59.424458</td>\n",
       "      <td>335.22</td>\n",
       "      <td>0.43</td>\n",
       "      <td>2012-01-20</td>\n",
       "      <td>1730</td>\n",
       "      <td>1</td>\n",
       "      <td>295.35</td>\n",
       "      <td>2.43</td>\n",
       "      <td>1</td>\n",
       "      <td>2012</td>\n",
       "      <td>1</td>\n",
       "      <td>20</td>\n",
       "      <td>1</td>\n",
       "      <td>0</td>\n",
       "      <td>0</td>\n",
       "    </tr>\n",
       "    <tr>\n",
       "      <th>1</th>\n",
       "      <td>1</td>\n",
       "      <td>2.501183</td>\n",
       "      <td>-59.738789</td>\n",
       "      <td>332.34</td>\n",
       "      <td>0.42</td>\n",
       "      <td>2012-01-20</td>\n",
       "      <td>1730</td>\n",
       "      <td>1</td>\n",
       "      <td>297.51</td>\n",
       "      <td>4.54</td>\n",
       "      <td>1</td>\n",
       "      <td>2012</td>\n",
       "      <td>1</td>\n",
       "      <td>20</td>\n",
       "      <td>1</td>\n",
       "      <td>0</td>\n",
       "      <td>0</td>\n",
       "    </tr>\n",
       "    <tr>\n",
       "      <th>2</th>\n",
       "      <td>2</td>\n",
       "      <td>2.490773</td>\n",
       "      <td>-59.737251</td>\n",
       "      <td>337.09</td>\n",
       "      <td>0.42</td>\n",
       "      <td>2012-01-20</td>\n",
       "      <td>1730</td>\n",
       "      <td>1</td>\n",
       "      <td>290.36</td>\n",
       "      <td>13.91</td>\n",
       "      <td>1</td>\n",
       "      <td>2012</td>\n",
       "      <td>1</td>\n",
       "      <td>20</td>\n",
       "      <td>1</td>\n",
       "      <td>0</td>\n",
       "      <td>0</td>\n",
       "    </tr>\n",
       "    <tr>\n",
       "      <th>3</th>\n",
       "      <td>3</td>\n",
       "      <td>2.493114</td>\n",
       "      <td>-59.745358</td>\n",
       "      <td>348.79</td>\n",
       "      <td>0.42</td>\n",
       "      <td>2012-01-20</td>\n",
       "      <td>1730</td>\n",
       "      <td>1</td>\n",
       "      <td>298.69</td>\n",
       "      <td>8.35</td>\n",
       "      <td>1</td>\n",
       "      <td>2012</td>\n",
       "      <td>1</td>\n",
       "      <td>20</td>\n",
       "      <td>1</td>\n",
       "      <td>0</td>\n",
       "      <td>0</td>\n",
       "    </tr>\n",
       "    <tr>\n",
       "      <th>4</th>\n",
       "      <td>4</td>\n",
       "      <td>2.490209</td>\n",
       "      <td>-59.741047</td>\n",
       "      <td>337.00</td>\n",
       "      <td>0.42</td>\n",
       "      <td>2012-01-20</td>\n",
       "      <td>1730</td>\n",
       "      <td>1</td>\n",
       "      <td>293.50</td>\n",
       "      <td>8.35</td>\n",
       "      <td>1</td>\n",
       "      <td>2012</td>\n",
       "      <td>1</td>\n",
       "      <td>20</td>\n",
       "      <td>1</td>\n",
       "      <td>0</td>\n",
       "      <td>0</td>\n",
       "    </tr>\n",
       "  </tbody>\n",
       "</table>\n",
       "</div>"
      ],
      "text/plain": [
       "   Unnamed: 0  latitude  longitude  bright_ti4  scan    acq_date  acq_time  \\\n",
       "0           0  2.450549 -59.424458      335.22  0.43  2012-01-20      1730   \n",
       "1           1  2.501183 -59.738789      332.34  0.42  2012-01-20      1730   \n",
       "2           2  2.490773 -59.737251      337.09  0.42  2012-01-20      1730   \n",
       "3           3  2.493114 -59.745358      348.79  0.42  2012-01-20      1730   \n",
       "4           4  2.490209 -59.741047      337.00  0.42  2012-01-20      1730   \n",
       "\n",
       "   confidence  bright_ti5    frp  daynight  year  month  day  0  2  3  \n",
       "0           1      295.35   2.43         1  2012      1   20  1  0  0  \n",
       "1           1      297.51   4.54         1  2012      1   20  1  0  0  \n",
       "2           1      290.36  13.91         1  2012      1   20  1  0  0  \n",
       "3           1      298.69   8.35         1  2012      1   20  1  0  0  \n",
       "4           1      293.50   8.35         1  2012      1   20  1  0  0  "
      ]
     },
     "execution_count": 15,
     "metadata": {},
     "output_type": "execute_result"
    }
   ],
   "source": [
    "# Change fire type to one-hot ecoding columns using get dummies\n",
    "types = pd.get_dummies(df[\"type\"])\n",
    "df = pd.concat([df, types], axis = 1)\n",
    "\n",
    "df = df.drop([\"type\"], axis = 1)\n",
    "\n",
    "df.head()"
   ]
  },
  {
   "cell_type": "code",
   "execution_count": 16,
   "id": "55645604",
   "metadata": {
    "id": "55645604"
   },
   "outputs": [],
   "source": [
    "# Rename type columns\n",
    "df = df.rename(columns = {0: \"land_fire\", 2: \"static_fire\", 3: \"offshore_fire\"})"
   ]
  },
  {
   "cell_type": "markdown",
   "id": "c2ea5bcd",
   "metadata": {
    "id": "c2ea5bcd"
   },
   "source": [
    "Data binning, also called discrete binning or bucketing, is a data pre-processing technique used to reduce the effects of minor observation errors. The original data values which fall into a given small interval, a bin, are replaced by a value representative of that interval, often the central value"
   ]
  },
  {
   "cell_type": "code",
   "execution_count": 17,
   "id": "e5a12cc9",
   "metadata": {
    "id": "e5a12cc9"
   },
   "outputs": [],
   "source": [
    "# Convert scan column to categorical type. I might not use this if the value is only 1\n",
    "#bins = [0, 1, 2, 3, 4, 5]\n",
    "#labels = [1,2,3,4,5]\n",
    "#df['scan_binned'] = pd.cut(df['scan'], bins=bins, labels=labels)"
   ]
  },
  {
   "cell_type": "code",
   "execution_count": 18,
   "id": "3d6c6a24",
   "metadata": {
    "id": "3d6c6a24"
   },
   "outputs": [],
   "source": [
    "# Convert date into datetype\n",
    "df[\"acq_date\"] = pd.to_datetime(df[\"acq_date\"])\n",
    "\n",
    "# Drop scan column. not for this code\n",
    "#df = df.drop([\"scan\"], axis = 1)"
   ]
  },
  {
   "cell_type": "code",
   "execution_count": 19,
   "id": "4654cafc",
   "metadata": {
    "colab": {
     "base_uri": "https://localhost:8080/",
     "height": 206
    },
    "id": "4654cafc",
    "outputId": "fc439f4b-1648-495a-e157-7e329e90ef27"
   },
   "outputs": [
    {
     "data": {
      "text/html": [
       "<div>\n",
       "<style scoped>\n",
       "    .dataframe tbody tr th:only-of-type {\n",
       "        vertical-align: middle;\n",
       "    }\n",
       "\n",
       "    .dataframe tbody tr th {\n",
       "        vertical-align: top;\n",
       "    }\n",
       "\n",
       "    .dataframe thead th {\n",
       "        text-align: right;\n",
       "    }\n",
       "</style>\n",
       "<table border=\"1\" class=\"dataframe\">\n",
       "  <thead>\n",
       "    <tr style=\"text-align: right;\">\n",
       "      <th></th>\n",
       "      <th>Unnamed: 0</th>\n",
       "      <th>latitude</th>\n",
       "      <th>longitude</th>\n",
       "      <th>bright_ti4</th>\n",
       "      <th>scan</th>\n",
       "      <th>acq_date</th>\n",
       "      <th>acq_time</th>\n",
       "      <th>confidence</th>\n",
       "      <th>bright_ti5</th>\n",
       "      <th>frp</th>\n",
       "      <th>daynight</th>\n",
       "      <th>year</th>\n",
       "      <th>month</th>\n",
       "      <th>day</th>\n",
       "      <th>land_fire</th>\n",
       "      <th>static_fire</th>\n",
       "      <th>offshore_fire</th>\n",
       "    </tr>\n",
       "  </thead>\n",
       "  <tbody>\n",
       "    <tr>\n",
       "      <th>0</th>\n",
       "      <td>0</td>\n",
       "      <td>2.450549</td>\n",
       "      <td>-59.424458</td>\n",
       "      <td>335.22</td>\n",
       "      <td>0.43</td>\n",
       "      <td>2012-01-20</td>\n",
       "      <td>1730</td>\n",
       "      <td>1</td>\n",
       "      <td>295.35</td>\n",
       "      <td>2.43</td>\n",
       "      <td>1</td>\n",
       "      <td>2012</td>\n",
       "      <td>1</td>\n",
       "      <td>20</td>\n",
       "      <td>1</td>\n",
       "      <td>0</td>\n",
       "      <td>0</td>\n",
       "    </tr>\n",
       "    <tr>\n",
       "      <th>1</th>\n",
       "      <td>1</td>\n",
       "      <td>2.501183</td>\n",
       "      <td>-59.738789</td>\n",
       "      <td>332.34</td>\n",
       "      <td>0.42</td>\n",
       "      <td>2012-01-20</td>\n",
       "      <td>1730</td>\n",
       "      <td>1</td>\n",
       "      <td>297.51</td>\n",
       "      <td>4.54</td>\n",
       "      <td>1</td>\n",
       "      <td>2012</td>\n",
       "      <td>1</td>\n",
       "      <td>20</td>\n",
       "      <td>1</td>\n",
       "      <td>0</td>\n",
       "      <td>0</td>\n",
       "    </tr>\n",
       "    <tr>\n",
       "      <th>2</th>\n",
       "      <td>2</td>\n",
       "      <td>2.490773</td>\n",
       "      <td>-59.737251</td>\n",
       "      <td>337.09</td>\n",
       "      <td>0.42</td>\n",
       "      <td>2012-01-20</td>\n",
       "      <td>1730</td>\n",
       "      <td>1</td>\n",
       "      <td>290.36</td>\n",
       "      <td>13.91</td>\n",
       "      <td>1</td>\n",
       "      <td>2012</td>\n",
       "      <td>1</td>\n",
       "      <td>20</td>\n",
       "      <td>1</td>\n",
       "      <td>0</td>\n",
       "      <td>0</td>\n",
       "    </tr>\n",
       "    <tr>\n",
       "      <th>3</th>\n",
       "      <td>3</td>\n",
       "      <td>2.493114</td>\n",
       "      <td>-59.745358</td>\n",
       "      <td>348.79</td>\n",
       "      <td>0.42</td>\n",
       "      <td>2012-01-20</td>\n",
       "      <td>1730</td>\n",
       "      <td>1</td>\n",
       "      <td>298.69</td>\n",
       "      <td>8.35</td>\n",
       "      <td>1</td>\n",
       "      <td>2012</td>\n",
       "      <td>1</td>\n",
       "      <td>20</td>\n",
       "      <td>1</td>\n",
       "      <td>0</td>\n",
       "      <td>0</td>\n",
       "    </tr>\n",
       "    <tr>\n",
       "      <th>4</th>\n",
       "      <td>4</td>\n",
       "      <td>2.490209</td>\n",
       "      <td>-59.741047</td>\n",
       "      <td>337.00</td>\n",
       "      <td>0.42</td>\n",
       "      <td>2012-01-20</td>\n",
       "      <td>1730</td>\n",
       "      <td>1</td>\n",
       "      <td>293.50</td>\n",
       "      <td>8.35</td>\n",
       "      <td>1</td>\n",
       "      <td>2012</td>\n",
       "      <td>1</td>\n",
       "      <td>20</td>\n",
       "      <td>1</td>\n",
       "      <td>0</td>\n",
       "      <td>0</td>\n",
       "    </tr>\n",
       "  </tbody>\n",
       "</table>\n",
       "</div>"
      ],
      "text/plain": [
       "   Unnamed: 0  latitude  longitude  bright_ti4  scan   acq_date  acq_time  \\\n",
       "0           0  2.450549 -59.424458      335.22  0.43 2012-01-20      1730   \n",
       "1           1  2.501183 -59.738789      332.34  0.42 2012-01-20      1730   \n",
       "2           2  2.490773 -59.737251      337.09  0.42 2012-01-20      1730   \n",
       "3           3  2.493114 -59.745358      348.79  0.42 2012-01-20      1730   \n",
       "4           4  2.490209 -59.741047      337.00  0.42 2012-01-20      1730   \n",
       "\n",
       "   confidence  bright_ti5    frp  daynight  year  month  day  land_fire  \\\n",
       "0           1      295.35   2.43         1  2012      1   20          1   \n",
       "1           1      297.51   4.54         1  2012      1   20          1   \n",
       "2           1      290.36  13.91         1  2012      1   20          1   \n",
       "3           1      298.69   8.35         1  2012      1   20          1   \n",
       "4           1      293.50   8.35         1  2012      1   20          1   \n",
       "\n",
       "   static_fire  offshore_fire  \n",
       "0            0              0  \n",
       "1            0              0  \n",
       "2            0              0  \n",
       "3            0              0  \n",
       "4            0              0  "
      ]
     },
     "execution_count": 19,
     "metadata": {},
     "output_type": "execute_result"
    }
   ],
   "source": [
    "# Create a column for year, month and day\n",
    "df[\"year\"] = df[\"acq_date\"].dt.year\n",
    "df[\"month\"] = df[\"acq_date\"].dt.month\n",
    "df[\"day\"] = df[\"acq_date\"].dt.day\n",
    "\n",
    "df.head()"
   ]
  },
  {
   "cell_type": "code",
   "execution_count": 20,
   "id": "04bf5c9e",
   "metadata": {
    "colab": {
     "base_uri": "https://localhost:8080/"
    },
    "id": "04bf5c9e",
    "outputId": "e32a23fa-5f89-4a86-e0d4-a7477e99e73a"
   },
   "outputs": [
    {
     "data": {
      "text/plain": [
       "Unnamed: 0       0\n",
       "latitude         0\n",
       "longitude        0\n",
       "bright_ti4       0\n",
       "scan             0\n",
       "acq_date         0\n",
       "acq_time         0\n",
       "confidence       0\n",
       "bright_ti5       0\n",
       "frp              0\n",
       "daynight         0\n",
       "year             0\n",
       "month            0\n",
       "day              0\n",
       "land_fire        0\n",
       "static_fire      0\n",
       "offshore_fire    0\n",
       "dtype: int64"
      ]
     },
     "execution_count": 20,
     "metadata": {},
     "output_type": "execute_result"
    }
   ],
   "source": [
    "df.isna().sum()"
   ]
  },
  {
   "cell_type": "code",
   "execution_count": 21,
   "id": "f579280b",
   "metadata": {
    "colab": {
     "base_uri": "https://localhost:8080/",
     "height": 982
    },
    "id": "f579280b",
    "outputId": "cc65ed46-3a7b-42a8-bce0-6c742d3dc14e"
   },
   "outputs": [
    {
     "data": {
      "text/plain": [
       "array([[<AxesSubplot:title={'center':'Unnamed: 0'}>,\n",
       "        <AxesSubplot:title={'center':'latitude'}>,\n",
       "        <AxesSubplot:title={'center':'longitude'}>,\n",
       "        <AxesSubplot:title={'center':'bright_ti4'}>],\n",
       "       [<AxesSubplot:title={'center':'scan'}>,\n",
       "        <AxesSubplot:title={'center':'acq_date'}>,\n",
       "        <AxesSubplot:title={'center':'acq_time'}>,\n",
       "        <AxesSubplot:title={'center':'confidence'}>],\n",
       "       [<AxesSubplot:title={'center':'bright_ti5'}>,\n",
       "        <AxesSubplot:title={'center':'frp'}>,\n",
       "        <AxesSubplot:title={'center':'daynight'}>,\n",
       "        <AxesSubplot:title={'center':'year'}>],\n",
       "       [<AxesSubplot:title={'center':'month'}>,\n",
       "        <AxesSubplot:title={'center':'day'}>,\n",
       "        <AxesSubplot:title={'center':'land_fire'}>,\n",
       "        <AxesSubplot:title={'center':'static_fire'}>],\n",
       "       [<AxesSubplot:title={'center':'offshore_fire'}>, <AxesSubplot:>,\n",
       "        <AxesSubplot:>, <AxesSubplot:>]], dtype=object)"
      ]
     },
     "execution_count": 21,
     "metadata": {},
     "output_type": "execute_result"
    },
    {
     "data": {
      "image/png": "[encoded data removed]",
      "text/plain": [
       "<Figure size 1440x720 with 20 Axes>"
      ]
     },
     "metadata": {
      "needs_background": "light"
     },
     "output_type": "display_data"
    }
   ],
   "source": [
    "df.hist(figsize=(20,10))"
   ]
  },
  {
   "cell_type": "markdown",
   "id": "a9e4f0ef",
   "metadata": {
    "id": "a9e4f0ef"
   },
   "source": [
    "From charts we can tell:\n",
    "\n",
    "    Most of the fires detected is between January and May which is within our dry season\n",
    "    There were more fires classified with nominal confidence which means there was glint affecting the reading\n",
    "    There were more type 0 fires detected which is vegetation/forest\n",
    "\n"
   ]
  },
  {
   "cell_type": "code",
   "execution_count": 22,
   "id": "179836af",
   "metadata": {
    "id": "179836af"
   },
   "outputs": [],
   "source": [
    "# Get feature labels\n",
    "features = [\"latitude\", \"longitude\", \"scan\", \"frp\", \"daynight\", \"land_fire\",\"static_fire\", \"offshore_fire\", \"year\", \"month\", \"day\"]\n",
    "\n",
    "# Separating out the target\n",
    "X = df.loc[:, features].values \n",
    "y = df.loc[:,[\"confidence\"]].values.ravel() "
   ]
  },
  {
   "cell_type": "code",
   "execution_count": 23,
   "id": "6c3f4204",
   "metadata": {
    "colab": {
     "base_uri": "https://localhost:8080/"
    },
    "id": "6c3f4204",
    "outputId": "62ffb95e-660f-444a-c0ab-b08701c78119"
   },
   "outputs": [
    {
     "name": "stdout",
     "output_type": "stream",
     "text": [
      "Before oversampling: Counter({1: 79571, 0: 5826, 2: 2729})\n",
      "After oversampling: Counter({1: 79571, 2: 79571, 0: 79571})\n"
     ]
    }
   ],
   "source": [
    "# Oversample the data to correct the imbalance in stroke victims\n",
    "count = Counter( y)\n",
    "print(\"Before oversampling: {}\".format(count))\n",
    "\n",
    "sm = SMOTE(random_state = 100)\n",
    "\n",
    "X_sm, y_sm = sm.fit_resample(X, y)\n",
    "\n",
    "count = Counter( y_sm)\n",
    "print(\"After oversampling: {}\".format(count))"
   ]
  },
  {
   "cell_type": "code",
   "execution_count": 24,
   "id": "cbfbcb37",
   "metadata": {
    "id": "cbfbcb37"
   },
   "outputs": [],
   "source": [
    "# 70% training and 30% test\n",
    "X_train, X_test, y_train, y_test = train_test_split(X_sm, y_sm, test_size=0.3, random_state = 42) "
   ]
  },
  {
   "cell_type": "code",
   "execution_count": 25,
   "id": "938ce5d4",
   "metadata": {
    "colab": {
     "base_uri": "https://localhost:8080/"
    },
    "id": "938ce5d4",
    "outputId": "6731cad2-780d-482a-dd51-57175ead6e60"
   },
   "outputs": [
    {
     "name": "stdout",
     "output_type": "stream",
     "text": [
      "Training Features Shape: (167099, 11)\n",
      "Training Labels Shape: (167099,)\n",
      "Testing Features Shape: (71614, 11)\n",
      "Testing Labels Shape: (71614,)\n"
     ]
    }
   ],
   "source": [
    "print('Training Features Shape:', X_train.shape)\n",
    "print('Training Labels Shape:', y_train.shape)\n",
    "print('Testing Features Shape:', X_test.shape)\n",
    "print('Testing Labels Shape:', y_test.shape)"
   ]
  },
  {
   "cell_type": "code",
   "execution_count": 26,
   "id": "7793effb",
   "metadata": {
    "colab": {
     "base_uri": "https://localhost:8080/"
    },
    "id": "7793effb",
    "outputId": "e10a2822-7ab7-4c26-9a02-1874133bbf9c"
   },
   "outputs": [
    {
     "name": "stdout",
     "output_type": "stream",
     "text": [
      "Average baseline error:  0.67\n"
     ]
    }
   ],
   "source": [
    "# The baseline predictions against land (forest) fires (we need to beat)\n",
    "baseline_preds = X_test[:, features.index('land_fire')] \n",
    "\n",
    "# Baseline errors, and display average baseline error\n",
    "baseline_errors = abs(baseline_preds - y_test)\n",
    "\n",
    "print('Average baseline error: ', round(np.mean(baseline_errors), 2))"
   ]
  },
  {
   "cell_type": "code",
   "execution_count": 27,
   "id": "da93e00c",
   "metadata": {
    "id": "da93e00c"
   },
   "outputs": [],
   "source": [
    "# Build a random forest regressor model with 300 decision trees\n",
    "rfg = RandomForestRegressor(n_estimators = 300, random_state = 42)"
   ]
  },
  {
   "cell_type": "code",
   "execution_count": 28,
   "id": "88b2c6b6",
   "metadata": {
    "colab": {
     "base_uri": "https://localhost:8080/"
    },
    "id": "88b2c6b6",
    "outputId": "3554ed62-434a-422c-c1a1-27af04f0ad2e"
   },
   "outputs": [
    {
     "name": "stdout",
     "output_type": "stream",
     "text": [
      "Mean Absolute Error: 0.14 degrees.\n"
     ]
    }
   ],
   "source": [
    "# Train the model\n",
    "rfg.fit(X_train, y_train)\n",
    "\n",
    "# Make predictions on test data\n",
    "y_pred = rfg.predict(X_test)\n",
    "\n",
    "# Calculate the absolute errors\n",
    "errors = abs(y_pred - y_test)\n",
    "\n",
    "# Print out the mean absolute error (mae)\n",
    "print('Mean Absolute Error:', round(np.mean(errors), 2), 'degrees.')"
   ]
  },
  {
   "cell_type": "code",
   "execution_count": null,
   "id": "6649e3c3",
   "metadata": {},
   "outputs": [],
   "source": [
    "#import pickle\n",
    "# Pickle model by serializing and saving it\n",
    "pickle.dump(rfg, open(\"rfg_model.pkl\", \"wb\"))\n",
    "\n",
    "#to depickle or load model\n",
    "#rfg_model = pickle.load(open(\"rfg_model.pkl\", \"rb\"))\n",
    "\n",
    "#Use model to predict\n",
    "#print(model.predict([[1.8]]))"
   ]
  },
  {
   "cell_type": "code",
   "execution_count": 29,
   "id": "209cd9ef",
   "metadata": {
    "colab": {
     "base_uri": "https://localhost:8080/"
    },
    "id": "209cd9ef",
    "outputId": "1a30f3dd-2c73-4f79-edd3-092656eca30f"
   },
   "outputs": [
    {
     "name": "stdout",
     "output_type": "stream",
     "text": [
      "Model train accuracy: 98.49\n",
      "Model test accuracy: 88.96\n"
     ]
    }
   ],
   "source": [
    "# Check accuracy\n",
    "accuracy1 = round(rfg.score(X_train, y_train) * 100,2) #99.33\n",
    "print(\"Model train accuracy:\", accuracy1)\n",
    "\n",
    "\n",
    "accuracy2 = round(rfg.score(X_test, y_test) * 100,2) \n",
    "print(\"Model test accuracy:\", accuracy2)"
   ]
  },
  {
   "cell_type": "code",
   "execution_count": 30,
   "id": "1Doeja7VR_d9",
   "metadata": {
    "colab": {
     "base_uri": "https://localhost:8080/"
    },
    "id": "1Doeja7VR_d9",
    "outputId": "b00e5906-8ddb-498b-b903-70f512aa943e"
   },
   "outputs": [
    {
     "name": "stdout",
     "output_type": "stream",
     "text": [
      "Mean Absolute Error: 0.14487334878655012\n",
      "Mean Squared Error: 0.0738612673499595\n",
      "Root Mean Squared Error: 0.2717742948660883\n"
     ]
    }
   ],
   "source": [
    "# Calculate and print metics\n",
    "print('Mean Absolute Error:', metrics.mean_absolute_error(y_test, y_pred))\n",
    "print('Mean Squared Error:', metrics.mean_squared_error(y_test, y_pred))\n",
    "print('Root Mean Squared Error:', np.sqrt(metrics.mean_squared_error(y_test, y_pred)))"
   ]
  }
 ],
 "metadata": {
  "colab": {
   "collapsed_sections": [],
   "name": "Fire_Confidence_Base.ipynb",
   "provenance": []
  },
  "kernelspec": {
   "display_name": "Python 3 (ipykernel)",
   "language": "python",
   "name": "python3"
  },
  "language_info": {
   "codemirror_mode": {
    "name": "ipython",
    "version": 3
   },
   "file_extension": ".py",
   "mimetype": "text/x-python",
   "name": "python",
   "nbconvert_exporter": "python",
   "pygments_lexer": "ipython3",
   "version": "3.9.7"
  }
 },
 "nbformat": 4,
 "nbformat_minor": 5
}
